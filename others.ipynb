{
 "cells": [
  {
   "cell_type": "code",
   "execution_count": 12,
   "id": "a05468ea",
   "metadata": {},
   "outputs": [],
   "source": [
    "wheat_feb = \"The supply and demand outlook for 2022/23 U.S. wheat is largely unchanged this month with minor revisions to domestic use and ending stocks. Food use is lowered 2 million bushels to 975 million, which still is a record. The decrease is based on the NASS Flour Millings Products report, indicating a 2 percent reduction in wheat ground for flour for the October-December quarter compared to a year earlier. Seed use is raised 1 million bushels to 70 million, based primarily on NASS seed use data for the September-November quarter. Wheat exports are unchanged at 775 million tons with offsetting by-class changes. Projected 2022/23 ending stocks are raised 1 million bushels to 568 million. The 2022/23 season-average farm price is forecast $0.10 per bushel lower at $9.00, based on prices received to date and expectations for cash prices for the remainder of 2022/23. The global wheat outlook for 2022/23 is for increased supplies, consumption, trade, and stocks. Supplies are raised 2.4 million tons to 1,060.5 million, primarily on higher production for Australia and Russia. Australia production is raised 1.4 million tons to 38.0 million, which would be a third consecutive record. The majority of the increase is for Western Australia based on harvest receivals to date. Russia production is raised 1.0 million tons to 92.0 million on larger spring wheat harvested area. Global consumption is increased 1.4 million tons to 791.2 million, mainly on higher feed and residual use by Canada, EU, and Russia more than offsetting lower food, seed, and industrial use by Bangladesh. World trade is raised 1.3 million tons to 212.9 million on higher exports by Australia, Ukraine, EU, and Russia more than offsetting reduced exports by Canada. Projected 2022/23 ending stocks are raised 0.9 million tons to 269.3 million on increases for Australia and China more than offsetting a reduction for Ukraine. However, ending stocks still remain the lowest since 2016/17.\"\n"
   ]
  },
  {
   "cell_type": "code",
   "execution_count": 13,
   "id": "36347a53",
   "metadata": {},
   "outputs": [],
   "source": [
    "from transformers import AutoTokenizer, AutoModelForSeq2SeqLM\n",
    "import time\n",
    "from transformers import pipeline\n",
    "import datetime\n",
    "from transformers import PegasusTokenizer, PegasusForConditionalGeneration, TFPegasusForConditionalGeneration\n",
    "from bs4 import BeautifulSoup\n",
    "import requests\n",
    "import urllib\n",
    "import fitz\n",
    "import re\n",
    "\n",
    "pdf = \"/home/ren-admin/paradigm/dash/wasde/wasde.pdf\"\n",
    "doc = fitz.open(pdf)\n",
    "stop = 0\n",
    "for i in range(doc.page_count):\n",
    "    contents = doc.load_page(i).get_text(\"text\")\n",
    "    if \"Approved by the\" in contents and i != 0:\n",
    "        stop = i\n",
    "        break\n",
    "allgrains = \"\"\n",
    "for j in range(stop+1):\n",
    "    contents = doc.load_page(j).get_text(\"text\")\n",
    "    allgrains = allgrains + contents\n",
    "seven = re.split('WHEAT: |COARSE GRAINS: |RICE: |OILSEEDS: |SUGAR: |LIVESTOCK, POULTRY, AND DAIRY: |COTTON: ', allgrains)\n",
    "seven = seven[1:]\n",
    "remove = [\"\\nWASDE-626-2 \\n \\n \\n\", \"\\nWASDE-626-3 \\n \\n \\n\", \"\\nWASDE-626-4 \\n \\n \\n\", \"\\nWASDE-626-5 \\n \\n \\n\"]\n",
    "for i in range(len(seven)):\n",
    "    for j in range(4):\n",
    "            if remove[j] in seven[i]:\n",
    "                seven[i] = seven[i].replace(remove[j], \"\")\n",
    "for i in range(len(seven)):\n",
    "    seven[i] = seven[i].split(\"\\n \\n\")[:-1]\n",
    "for i in range(len(seven)):\n",
    "    for j in range(len(seven[i])):\n",
    "            seven[i][j] = seven[i][j].strip()\n",
    "            seven[i][j] = seven[i][j].replace(\"\\n\", \"\")\n",
    "            seven[i][j] = seven[i][j].replace(\"  \", \" \")\n",
    "for i in range(len(seven[-1])):\n",
    "        if seven[-1][i] == '':\n",
    "            break\n",
    "seven[-1] = seven[-1][:i]\n",
    "\n",
    "wheat = \" \".join(seven[0])\n",
    "coarse = \" \".join(seven[1])\n",
    "rice = \" \".join(seven[2])\n",
    "oilseed = \" \".join(seven[3])\n",
    "sugar = \" \".join(seven[4])\n",
    "meats = \" \".join(seven[5])\n",
    "cotton = \" \".join(seven[6])"
   ]
  },
  {
   "cell_type": "code",
   "execution_count": 14,
   "id": "97162b47",
   "metadata": {},
   "outputs": [],
   "source": [
    "model_name = \"human-centered-summarization/financial-summarization-pegasus\"\n",
    "tokenizerp = PegasusTokenizer.from_pretrained(model_name)\n",
    "modelp = PegasusForConditionalGeneration.from_pretrained(model_name)\n",
    "\n",
    "wheat_sum = []\n",
    "coarse_sum = []\n",
    "rice_sum = []\n",
    "oilseed_sum = []\n",
    "sugar_sum = []\n",
    "meats_sum = []\n",
    "cotton_sum = []\n",
    "for sen in seven[0]:\n",
    "    input_ids = tokenizerp(sen, return_tensors=\"pt\").input_ids\n",
    "    output = modelp.generate(input_ids, max_length=64, num_beams=5, early_stopping=True)\n",
    "    wheat_sum.append(tokenizerp.decode(output[0], skip_special_tokens=True))\n",
    "\n",
    "for sen in seven[1]:\n",
    "    input_ids = tokenizerp(sen, return_tensors=\"pt\").input_ids\n",
    "    output = modelp.generate(input_ids, max_length=64, num_beams=5, early_stopping=True)\n",
    "    coarse_sum.append(tokenizerp.decode(output[0], skip_special_tokens=True))\n",
    "\n",
    "for sen in seven[2]:\n",
    "    input_ids = tokenizerp(sen, return_tensors=\"pt\").input_ids\n",
    "    output = modelp.generate(input_ids, max_length=64, num_beams=5, early_stopping=True)\n",
    "    rice_sum.append(tokenizerp.decode(output[0], skip_special_tokens=True))\n",
    "\n",
    "for sen in seven[3]:\n",
    "    input_ids = tokenizerp(sen, return_tensors=\"pt\").input_ids\n",
    "    output = modelp.generate(input_ids, max_length=64, num_beams=5, early_stopping=True)\n",
    "    oilseed_sum.append(tokenizerp.decode(output[0], skip_special_tokens=True))\n",
    "\n",
    "for sen in seven[4]:\n",
    "    input_ids = tokenizerp(sen, return_tensors=\"pt\").input_ids\n",
    "    output = modelp.generate(input_ids, max_length=64, num_beams=5, early_stopping=True)\n",
    "    sugar_sum.append(tokenizerp.decode(output[0], skip_special_tokens=True))\n",
    "\n",
    "for sen in seven[5]:\n",
    "    input_ids = tokenizerp(sen, return_tensors=\"pt\").input_ids\n",
    "    output = modelp.generate(input_ids, max_length=64, num_beams=5, early_stopping=True)\n",
    "    meats_sum.append(tokenizerp.decode(output[0], skip_special_tokens=True))\n",
    "\n",
    "for sen in seven[6]:\n",
    "    input_ids = tokenizerp(sen, return_tensors=\"pt\").input_ids\n",
    "    output = modelp.generate(input_ids, max_length=64, num_beams=5, early_stopping=True)\n",
    "    cotton_sum.append(tokenizerp.decode(output[0], skip_special_tokens=True))\n",
    "\n",
    "wheat_sum = \" \".join(wheat_sum)\n",
    "coarse_sum = \" \".join(coarse_sum)\n",
    "rice_sum = \" \".join(rice_sum)\n",
    "oilseed_sum = \" \".join(oilseed_sum)\n",
    "sugar_sum = \" \".join(sugar_sum)\n",
    "meats_sum = \" \".join(meats_sum)\n",
    "cotton_sum = \" \".join(cotton_sum)"
   ]
  },
  {
   "cell_type": "code",
   "execution_count": 15,
   "id": "0c2641e4",
   "metadata": {},
   "outputs": [
    {
     "name": "stdout",
     "output_type": "stream",
     "text": [
      "The outlook for 2022/23 U.S. rice this month is for unchanged supplies and domestic use, lower exports, and higher ending stocks. Total rice exports are reduced 3.0 million cwt to 59.0 million on the continued sluggish pace of export sales and shipments. Total exports are now only fractionally higher than the 1985/86 exports of 58.7 million cwt, which is the last time exports declined to this level. Long-grain exports are decreased 2.0 million cwt to 45.0 million as near-record U.S. export prices continue to affect shipments to Latin America, which are being displaced by more competitively-priced rice from South American suppliers. Medium- and short-grain exports are lowered 1.0 million cwt to 14.0 million as record-high California prices are reducing Northeast Asian purchases. The decrease in exports raises 2022/23 all rice ending stocks by an equivalent amount to 36.1 million cwt, which is still 9 percent below last year. The all rice season-average farm price is unchanged at $19.40 per cwt with both the long and medium- and short-grain prices unchanged. The 2022/23 global outlook is for larger supplies, consumption, trade, and ending stocks. Supplies are raised 7.0 million tons to 693.3 million with virtually all of the increase on higher 2022/23 India production, which is raised 7.0 million tons to a record 132.0 million. The increase is based on the Government of India Second Advanced Estimate and the expectation the final production estimate will increase further based on recent history. World 2022/23 consumption is raised 2.8 million tons to a record 520.0 million mainly on an increase for India. Global trade is increased 0.9 million tons to 54.9 million as India exports more than offset reductions for Uruguay and the United States. Projected world ending stocks are raised 4.2 million tons to 173.3 million with China and India accounting for 81 percent of global rice stocks.\n"
     ]
    }
   ],
   "source": [
    "print(rice)"
   ]
  },
  {
   "cell_type": "code",
   "execution_count": 16,
   "id": "d28f00bd",
   "metadata": {},
   "outputs": [
    {
     "name": "stdout",
     "output_type": "stream",
     "text": [
      "Domestic use is lowered 1.0 million cwt to 91.1 million cwt. Total rice exports reduced 3.0 million cwt to 59.0 million. India production raised to record 132.0 million tons. World ending stocks raised 4.2 million tons to 173.3 million\n"
     ]
    }
   ],
   "source": [
    "# Pegasus\n",
    "print(rice_sum)"
   ]
  },
  {
   "cell_type": "code",
   "execution_count": 17,
   "id": "3da0d867",
   "metadata": {},
   "outputs": [
    {
     "name": "stderr",
     "output_type": "stream",
     "text": [
      "/home/ren-admin/miniconda3/lib/python3.9/site-packages/transformers/models/auto/modeling_auto.py:1248: FutureWarning: The class `AutoModelWithLMHead` is deprecated and will be removed in a future version. Please use `AutoModelForCausalLM` for causal language models, `AutoModelForMaskedLM` for masked language models and `AutoModelForSeq2SeqLM` for encoder-decoder models.\n",
      "  warnings.warn(\n"
     ]
    },
    {
     "name": "stdout",
     "output_type": "stream",
     "text": [
      "Long-grain exports are reduced 2.0 million cwt to 45.0 million as near-record U.S. export prices continue to affect shipments to Latin America. The decrease in exports raises all rice ending stocks by an equivalent amount to 36.1 million cwt, which is still 9 percent below last year. World 2022/23 consumption is raised 2.8 million tons to a record 520.0 million mainly on an increase for India. All rice ending stocks are raised 4.2 million tons to 173.3 million.\n"
     ]
    }
   ],
   "source": [
    "from transformers import AutoModelWithLMHead, AutoTokenizer\n",
    "tokenizer2 = AutoTokenizer.from_pretrained(\"mrm8488/t5-base-finetuned-summarize-news\")\n",
    "model2 = AutoModelWithLMHead.from_pretrained(\"mrm8488/t5-base-finetuned-summarize-news\")\n",
    "\n",
    "def summarize2(text, max_length=300):\n",
    "    input_ids = tokenizer2.encode(text, return_tensors=\"pt\", add_special_tokens=True)\n",
    "    generated_ids = model2.generate(input_ids=input_ids, num_beams=2, max_length=max_length, repetition_penalty=2.5, length_penalty=1.0, early_stopping=True)\n",
    "    preds = [tokenizer2.decode(g, skip_special_tokens=True, clean_up_tokenization_spaces=True) for g in generated_ids]\n",
    "    return preds[0]\n",
    "\n",
    "# untrained t5\n",
    "print(summarize2(rice))"
   ]
  },
  {
   "cell_type": "code",
   "execution_count": 18,
   "id": "a4edfcf3",
   "metadata": {},
   "outputs": [
    {
     "name": "stdout",
     "output_type": "stream",
     "text": [
      "huggingface/tokenizers: The current process just got forked, after parallelism has already been used. Disabling parallelism to avoid deadlocks...\n",
      "To disable this warning, you can either:\n",
      "\t- Avoid using `tokenizers` before the fork if possible\n",
      "\t- Explicitly set the environment variable TOKENIZERS_PARALLELISM=(true | false)\n",
      "huggingface/tokenizers: The current process just got forked, after parallelism has already been used. Disabling parallelism to avoid deadlocks...\n",
      "To disable this warning, you can either:\n",
      "\t- Avoid using `tokenizers` before the fork if possible\n",
      "\t- Explicitly set the environment variable TOKENIZERS_PARALLELISM=(true | false)\n"
     ]
    },
    {
     "name": "stderr",
     "output_type": "stream",
     "text": [
      "2023-04-07 13:04:48.256235: I tensorflow/stream_executor/cuda/cuda_gpu_executor.cc:937] successful NUMA node read from SysFS had negative value (-1), but there must be at least one NUMA node, so returning NUMA node zero\n",
      "2023-04-07 13:04:48.256875: I tensorflow/stream_executor/cuda/cuda_gpu_executor.cc:937] successful NUMA node read from SysFS had negative value (-1), but there must be at least one NUMA node, so returning NUMA node zero\n",
      "2023-04-07 13:04:48.257475: I tensorflow/stream_executor/cuda/cuda_gpu_executor.cc:937] successful NUMA node read from SysFS had negative value (-1), but there must be at least one NUMA node, so returning NUMA node zero\n",
      "2023-04-07 13:04:48.258110: I tensorflow/stream_executor/cuda/cuda_gpu_executor.cc:937] successful NUMA node read from SysFS had negative value (-1), but there must be at least one NUMA node, so returning NUMA node zero\n",
      "2023-04-07 13:04:48.582166: I tensorflow/stream_executor/cuda/cuda_gpu_executor.cc:937] successful NUMA node read from SysFS had negative value (-1), but there must be at least one NUMA node, so returning NUMA node zero\n",
      "2023-04-07 13:04:48.583443: I tensorflow/stream_executor/cuda/cuda_gpu_executor.cc:937] successful NUMA node read from SysFS had negative value (-1), but there must be at least one NUMA node, so returning NUMA node zero\n",
      "2023-04-07 13:04:48.584641: I tensorflow/stream_executor/cuda/cuda_gpu_executor.cc:937] successful NUMA node read from SysFS had negative value (-1), but there must be at least one NUMA node, so returning NUMA node zero\n",
      "2023-04-07 13:04:48.585764: I tensorflow/stream_executor/cuda/cuda_gpu_executor.cc:937] successful NUMA node read from SysFS had negative value (-1), but there must be at least one NUMA node, so returning NUMA node zero\n",
      "2023-04-07 13:04:48.586940: I tensorflow/stream_executor/cuda/cuda_gpu_executor.cc:937] successful NUMA node read from SysFS had negative value (-1), but there must be at least one NUMA node, so returning NUMA node zero\n",
      "2023-04-07 13:04:48.588004: I tensorflow/stream_executor/cuda/cuda_gpu_executor.cc:937] successful NUMA node read from SysFS had negative value (-1), but there must be at least one NUMA node, so returning NUMA node zero\n",
      "2023-04-07 13:04:48.589203: I tensorflow/stream_executor/cuda/cuda_gpu_executor.cc:937] successful NUMA node read from SysFS had negative value (-1), but there must be at least one NUMA node, so returning NUMA node zero\n",
      "2023-04-07 13:04:48.590292: I tensorflow/stream_executor/cuda/cuda_gpu_executor.cc:937] successful NUMA node read from SysFS had negative value (-1), but there must be at least one NUMA node, so returning NUMA node zero\n",
      "Some weights of the model checkpoint at bert-large-uncased were not used when initializing BertModel: ['cls.predictions.transform.dense.bias', 'cls.predictions.transform.LayerNorm.bias', 'cls.predictions.transform.dense.weight', 'cls.predictions.decoder.weight', 'cls.seq_relationship.weight', 'cls.seq_relationship.bias', 'cls.predictions.bias', 'cls.predictions.transform.LayerNorm.weight']\n",
      "- This IS expected if you are initializing BertModel from the checkpoint of a model trained on another task or with another architecture (e.g. initializing a BertForSequenceClassification model from a BertForPreTraining model).\n",
      "- This IS NOT expected if you are initializing BertModel from the checkpoint of a model that you expect to be exactly identical (initializing a BertForSequenceClassification model from a BertForSequenceClassification model).\n"
     ]
    },
    {
     "name": "stdout",
     "output_type": "stream",
     "text": [
      "The outlook for 2022/23 U.S. rice this month is for unchanged supplies and domestic use, lower exports, and higher ending stocks. World 2022/23 consumption is raised 2.8 million tons to a record 520.0 million mainly on an increase for India. Projected world ending stocks are raised 4.2 million tons to 173.3 million with China and India accounting for 81 percent of global rice stocks.\n"
     ]
    }
   ],
   "source": [
    "from summarizer import Summarizer, TransformerSummarizer\n",
    "bert_model = Summarizer()\n",
    "bert_summary = ''.join(bert_model(rice, min_length=60))\n",
    "print(bert_summary)"
   ]
  },
  {
   "cell_type": "code",
   "execution_count": 19,
   "id": "8500247b",
   "metadata": {},
   "outputs": [
    {
     "name": "stdout",
     "output_type": "stream",
     "text": [
      "The outlook for 2022/23 U.S. rice this month is for unchanged supplies and domestic use, lower exports, and higher ending stocks. Medium- and short-grain exports are lowered 1.0 million cwt to 14.0 million as record-high California prices are reducing Northeast Asian purchases. The 2022/23 global outlook is for larger supplies, consumption, trade, and ending stocks.\n"
     ]
    }
   ],
   "source": [
    "GPT2_model = TransformerSummarizer(transformer_type=\"GPT2\", transformer_model_key=\"gpt2-medium\")\n",
    "full = ''.join(GPT2_model(rice, min_length=60))\n",
    "print(full)"
   ]
  },
  {
   "cell_type": "code",
   "execution_count": 20,
   "id": "210b88eb",
   "metadata": {},
   "outputs": [],
   "source": [
    "from transformers import T5Tokenizer, T5ForConditionalGeneration\n",
    "\n",
    "flan_model = T5ForConditionalGeneration.from_pretrained(\"google/flan-t5-base\")\n",
    "flan_tokenizer = T5Tokenizer.from_pretrained(\"google/flan-t5-base\")"
   ]
  },
  {
   "cell_type": "code",
   "execution_count": 68,
   "id": "777d0ff0",
   "metadata": {},
   "outputs": [
    {
     "name": "stdout",
     "output_type": "stream",
     "text": [
      "U.S. wheat is largely unchanged this month with minor revisions to domestic use and ending stocks. Food use is lowered 2 million bushels to 975 million, which still is a record. The decrease is based on the NASS Flour Millings Products report, indicating a 2 percent reduction in wheat ground for flour for the October-December quarter compared to a year earlier. Wheat exports are unchanged at 775 million tons with offsetting by-class changes. Wheat exports are unchanged at 775 million tons with offsetting by-class changes. The global wheat outlook for 2022/23 is for increased supplies, consumption, trade, and stocks. Supplies are raised 2.4 million tons to 1,060.5 million, primarily on higher production for Australia and Russia. Australia production is raised 1.4 million tons to 38.0 million, which would be a third consecutive record. The majority of the increase is for Western Australia based on harvest receivals to date.\n"
     ]
    }
   ],
   "source": [
    "command = \"Write a summary of the following:\\n\\n\" + wheat_feb\n",
    "flan_inputs = flan_tokenizer(command, return_tensors=\"pt\")\n",
    "flan_outputs = flan_model.generate(**flan_inputs, num_beams=10, min_length=100, max_length=210)\n",
    "print(flan_tokenizer.batch_decode(flan_outputs, skip_special_tokens=True)[0])"
   ]
  },
  {
   "cell_type": "code",
   "execution_count": 72,
   "id": "682d6727",
   "metadata": {},
   "outputs": [
    {
     "name": "stdout",
     "output_type": "stream",
     "text": [
      "0.13694267515923567\n"
     ]
    }
   ],
   "source": [
    "test = \"Domestic food use lowered 2 million bushels to 975 million. Projected 2022/23 ending stocks unchanged at 568 million Australia spring wheat production raised to 38.0 million tons. Global wheat consumption raised to 1,060.5 million tons. Projected 2022/23 ending stocks remain lowest since 2016/17\"\n",
    "compression = len(test.split(\" \"))/len(wheat_feb.split(\" \"))\n",
    "print(compression)"
   ]
  },
  {
   "cell_type": "code",
   "execution_count": null,
   "id": "af548d5f",
   "metadata": {},
   "outputs": [],
   "source": [
    "U.S. wheat is largely unchanged this month with minor revisions to domestic use and ending stocks. Food use is lowered 2 million bushels to 975 million, which still is a record. The decrease is based on the NASS Flour Millings Products report, indicating a 2 percent reduction in wheat ground for flour for the October-December quarter compared to a year earlier. Wheat exports are unchanged at 775 million tons with offsetting by-class changes."
   ]
  }
 ],
 "metadata": {
  "kernelspec": {
   "display_name": "Python 3 (ipykernel)",
   "language": "python",
   "name": "python3"
  },
  "language_info": {
   "codemirror_mode": {
    "name": "ipython",
    "version": 3
   },
   "file_extension": ".py",
   "mimetype": "text/x-python",
   "name": "python",
   "nbconvert_exporter": "python",
   "pygments_lexer": "ipython3",
   "version": "3.9.12"
  }
 },
 "nbformat": 4,
 "nbformat_minor": 5
}
